{
 "cells": [
  {
   "cell_type": "code",
   "execution_count": 1,
   "id": "2e7aa3fd",
   "metadata": {},
   "outputs": [
    {
     "name": "stdout",
     "output_type": "stream",
     "text": [
      "Note: you may need to restart the kernel to use updated packages.Requirement already satisfied: matplotlib in c:\\users\\sys81\\anaconda3\\envs\\ashik\\lib\\site-packages (3.7.1)\n",
      "Requirement already satisfied: numpy>=1.20 in c:\\users\\sys81\\anaconda3\\envs\\ashik\\lib\\site-packages (from matplotlib) (1.24.1)\n",
      "Requirement already satisfied: fonttools>=4.22.0 in c:\\users\\sys81\\anaconda3\\envs\\ashik\\lib\\site-packages (from matplotlib) (4.39.0)\n",
      "Requirement already satisfied: python-dateutil>=2.7 in c:\\users\\sys81\\anaconda3\\envs\\ashik\\lib\\site-packages (from matplotlib) (2.8.2)\n",
      "Requirement already satisfied: pyparsing>=2.3.1 in c:\\users\\sys81\\anaconda3\\envs\\ashik\\lib\\site-packages (from matplotlib) (3.0.9)\n",
      "Requirement already satisfied: packaging>=20.0 in c:\\users\\sys81\\anaconda3\\envs\\ashik\\lib\\site-packages (from matplotlib) (22.0)\n",
      "Requirement already satisfied: cycler>=0.10 in c:\\users\\sys81\\anaconda3\\envs\\ashik\\lib\\site-packages (from matplotlib) (0.11.0)\n",
      "Requirement already satisfied: contourpy>=1.0.1 in c:\\users\\sys81\\anaconda3\\envs\\ashik\\lib\\site-packages (from matplotlib) (1.0.7)\n",
      "Requirement already satisfied: pillow>=6.2.0 in c:\\users\\sys81\\anaconda3\\envs\\ashik\\lib\\site-packages (from matplotlib) (9.4.0)\n",
      "Requirement already satisfied: kiwisolver>=1.0.1 in c:\\users\\sys81\\anaconda3\\envs\\ashik\\lib\\site-packages (from matplotlib) (1.4.4)\n",
      "Requirement already satisfied: six>=1.5 in c:\\users\\sys81\\anaconda3\\envs\\ashik\\lib\\site-packages (from python-dateutil>=2.7->matplotlib) (1.16.0)\n",
      "\n"
     ]
    }
   ],
   "source": [
    "pip install matplotlib"
   ]
  },
  {
   "cell_type": "code",
   "execution_count": 2,
   "id": "49763ace",
   "metadata": {},
   "outputs": [],
   "source": [
    "import cv2\n",
    "import numpy as n\n",
    "from matplotlib import pyplot as plt"
   ]
  },
  {
   "cell_type": "code",
   "execution_count": 3,
   "id": "f93ba105",
   "metadata": {},
   "outputs": [],
   "source": [
    "img=cv2.imread('explore2.jpg',0)"
   ]
  },
  {
   "cell_type": "code",
   "execution_count": 4,
   "id": "3bc2e942",
   "metadata": {},
   "outputs": [],
   "source": [
    "# Canny Edge\n",
    "canny=cv2.Canny(img,55,60)"
   ]
  },
  {
   "cell_type": "code",
   "execution_count": null,
   "id": "12e233da",
   "metadata": {},
   "outputs": [],
   "source": [
    "cv2.imshow(\"org\",img)\n",
    "cv2.imshow(\"can\",canny)\n",
    "cv2.waitKey(0)"
   ]
  },
  {
   "cell_type": "markdown",
   "id": "e93fa930",
   "metadata": {},
   "source": [
    "# Edge Detection for Video"
   ]
  },
  {
   "cell_type": "code",
   "execution_count": null,
   "id": "8007229a",
   "metadata": {},
   "outputs": [],
   "source": [
    "vid=cv2.VideoCapture(\"\") \n",
    "while(1):\n",
    "    ret,frame=vid.read()\n",
    "    gray=cv2.cvtColor(frame,cv2.COLOR_BGR2GRAY)\n",
    "    cv2.imshow(\"nature\",frame)\n",
    "    edges=cv2.Canny(frame,100,200)\n",
    "    cv2.imshow(\"edges\",edges)\n",
    "    if cv2.waitKey(5)& 0xFF==ord('a'):\n",
    "        break\n",
    "vid.release()\n",
    "cv2.destroyAllWindows()"
   ]
  },
  {
   "cell_type": "code",
   "execution_count": null,
   "id": "b790a0cf",
   "metadata": {},
   "outputs": [],
   "source": []
  }
 ],
 "metadata": {
  "kernelspec": {
   "display_name": "Python 3 (ipykernel)",
   "language": "python",
   "name": "python3"
  },
  "language_info": {
   "codemirror_mode": {
    "name": "ipython",
    "version": 3
   },
   "file_extension": ".py",
   "mimetype": "text/x-python",
   "name": "python",
   "nbconvert_exporter": "python",
   "pygments_lexer": "ipython3",
   "version": "3.10.9"
  }
 },
 "nbformat": 4,
 "nbformat_minor": 5
}
