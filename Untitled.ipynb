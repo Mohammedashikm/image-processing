{
 "cells": [
  {
   "cell_type": "code",
   "execution_count": 1,
   "id": "302c94d7",
   "metadata": {},
   "outputs": [],
   "source": [
    "import cv2"
   ]
  },
  {
   "cell_type": "code",
   "execution_count": 2,
   "id": "5d0d8f5a",
   "metadata": {},
   "outputs": [],
   "source": [
    "img=cv2.imread('bike.jpg')"
   ]
  },
  {
   "cell_type": "code",
   "execution_count": 3,
   "id": "cdea755d",
   "metadata": {},
   "outputs": [],
   "source": [
    "grey=cv2.imread('bike.jpg',0)"
   ]
  },
  {
   "cell_type": "code",
   "execution_count": 4,
   "id": "a9567681",
   "metadata": {},
   "outputs": [],
   "source": [
    "cv2.imshow(\"grey\",grey)\n",
    "cv2.waitKey(0)\n",
    "cv2.destroyAllWindows()"
   ]
  },
  {
   "cell_type": "code",
   "execution_count": 5,
   "id": "1a802ace",
   "metadata": {},
   "outputs": [],
   "source": [
    "cv2.imshow(\"image\",img)\n",
    "cv2.waitKey(0)\n",
    "cv2.destroyAllWindows()"
   ]
  },
  {
   "cell_type": "markdown",
   "id": "1f4514e8",
   "metadata": {},
   "source": [
    "# image shape"
   ]
  },
  {
   "cell_type": "markdown",
   "id": "4aeb6b0a",
   "metadata": {},
   "source": [
    "# size of an image"
   ]
  },
  {
   "cell_type": "code",
   "execution_count": 6,
   "id": "72bc5296",
   "metadata": {},
   "outputs": [],
   "source": [
    "si=img.size"
   ]
  },
  {
   "cell_type": "code",
   "execution_count": 7,
   "id": "7ab71baf",
   "metadata": {},
   "outputs": [
    {
     "name": "stdout",
     "output_type": "stream",
     "text": [
      "59885568\n"
     ]
    }
   ],
   "source": [
    "print(si)"
   ]
  },
  {
   "cell_type": "code",
   "execution_count": null,
   "id": "59e939d3",
   "metadata": {},
   "outputs": [],
   "source": []
  },
  {
   "cell_type": "markdown",
   "id": "9de45bf9",
   "metadata": {},
   "source": [
    "# value of an pixel"
   ]
  },
  {
   "cell_type": "code",
   "execution_count": 8,
   "id": "1a86f94e",
   "metadata": {},
   "outputs": [],
   "source": [
    "px=img[5471,3642]"
   ]
  },
  {
   "cell_type": "code",
   "execution_count": 9,
   "id": "d939b3b7",
   "metadata": {},
   "outputs": [
    {
     "name": "stdout",
     "output_type": "stream",
     "text": [
      "[54 54 78]\n"
     ]
    }
   ],
   "source": [
    "print(px)"
   ]
  },
  {
   "cell_type": "code",
   "execution_count": 15,
   "id": "f070ab97",
   "metadata": {},
   "outputs": [
    {
     "data": {
      "text/plain": [
       "-1"
      ]
     },
     "execution_count": 15,
     "metadata": {},
     "output_type": "execute_result"
    }
   ],
   "source": [
    "b,g,r=cv2.split(img)\n",
    "cv2.imshow(\"b\",b)\n",
    "cv2.waitKey(0)\n",
    "cv2.imshow(\"g\",g)\n",
    "cv2.waitKey(0)\n",
    "cv2.imshow(\"r\",r)\n",
    "cv2.waitKey(0)"
   ]
  },
  {
   "cell_type": "code",
   "execution_count": null,
   "id": "5cbeaafb",
   "metadata": {},
   "outputs": [],
   "source": []
  },
  {
   "cell_type": "code",
   "execution_count": null,
   "id": "ba09865b",
   "metadata": {},
   "outputs": [],
   "source": []
  }
 ],
 "metadata": {
  "kernelspec": {
   "display_name": "Python 3 (ipykernel)",
   "language": "python",
   "name": "python3"
  },
  "language_info": {
   "codemirror_mode": {
    "name": "ipython",
    "version": 3
   },
   "file_extension": ".py",
   "mimetype": "text/x-python",
   "name": "python",
   "nbconvert_exporter": "python",
   "pygments_lexer": "ipython3",
   "version": "3.10.9"
  }
 },
 "nbformat": 4,
 "nbformat_minor": 5
}
