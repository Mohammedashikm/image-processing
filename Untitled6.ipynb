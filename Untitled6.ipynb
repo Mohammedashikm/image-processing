{
 "cells": [
  {
   "cell_type": "code",
   "execution_count": 8,
   "id": "88a600cb",
   "metadata": {},
   "outputs": [],
   "source": [
    "import cv2\n",
    "import numpy as np\n",
    "from matplotlib import pyplot as py"
   ]
  },
  {
   "cell_type": "markdown",
   "id": "55dbefb1",
   "metadata": {},
   "source": [
    "# Video Capture"
   ]
  },
  {
   "cell_type": "code",
   "execution_count": 9,
   "id": "e0f6c22e",
   "metadata": {},
   "outputs": [],
   "source": [
    "cap=cv2.VideoCapture(\"video.mp4\")"
   ]
  },
  {
   "cell_type": "markdown",
   "id": "a72e66ac",
   "metadata": {},
   "source": [
    "# Reading & Color Conversion"
   ]
  },
  {
   "cell_type": "code",
   "execution_count": 10,
   "id": "0fd1b770",
   "metadata": {},
   "outputs": [],
   "source": [
    "ret,frame=cap.read()\n",
    "prv=cv2.cvtColor(frame,cv2.COLOR_BGR2GRAY)"
   ]
  },
  {
   "cell_type": "markdown",
   "id": "d7bd4e2a",
   "metadata": {},
   "source": [
    "# ZERO MATRIX"
   ]
  },
  {
   "cell_type": "code",
   "execution_count": 11,
   "id": "051e35dd",
   "metadata": {},
   "outputs": [],
   "source": [
    "hsv=np.zeros_like(frame)\n",
    "hsv[...,1]=255"
   ]
  },
  {
   "cell_type": "markdown",
   "id": "3d2f9365",
   "metadata": {},
   "source": [
    "# DENSE OPTICAL"
   ]
  },
  {
   "cell_type": "code",
   "execution_count": 12,
   "id": "0e2590be",
   "metadata": {},
   "outputs": [],
   "source": [
    "while True:\n",
    "    ret,frame=cap.read()\n",
    "    next=cv2.cvtColor(frame,cv2.COLOR_BGR2GRAY)\n",
    "    flow=cv2.calcOpticalFlowFarneback(prv,next,None,0.5,3,15,3,5,1.2,0)\n",
    "    mag,ang=cv2.cartToPolar(flow[...,0],flow[...,1])\n",
    "    hsv[...,0]=ang*180/np.pi/2\n",
    "    hsv[...,2]=cv2.normalize(mag,None,0,255,cv2.NORM_MINMAX)\n",
    "    rgb=cv2.cvtColor(hsv,cv2.COLOR_HSV2BGR)\n",
    "    cv2.imshow('frame',rgb)\n",
    "    k = cv2.waitKey(1) & 0xff\n",
    "    if k==27:\n",
    "        break\n",
    "cap.release()\n",
    "cv2.destroyAllWindows()"
   ]
  },
  {
   "cell_type": "code",
   "execution_count": null,
   "id": "7489dda1",
   "metadata": {},
   "outputs": [],
   "source": []
  }
 ],
 "metadata": {
  "kernelspec": {
   "display_name": "Python 3 (ipykernel)",
   "language": "python",
   "name": "python3"
  },
  "language_info": {
   "codemirror_mode": {
    "name": "ipython",
    "version": 3
   },
   "file_extension": ".py",
   "mimetype": "text/x-python",
   "name": "python",
   "nbconvert_exporter": "python",
   "pygments_lexer": "ipython3",
   "version": "3.10.9"
  }
 },
 "nbformat": 4,
 "nbformat_minor": 5
}
