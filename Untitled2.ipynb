{
 "cells": [
  {
   "cell_type": "code",
   "execution_count": 1,
   "id": "75781bda",
   "metadata": {},
   "outputs": [],
   "source": [
    "import cv2"
   ]
  },
  {
   "cell_type": "markdown",
   "id": "a03c53b3",
   "metadata": {},
   "source": [
    "# reading image"
   ]
  },
  {
   "cell_type": "code",
   "execution_count": 2,
   "id": "cda578a7",
   "metadata": {},
   "outputs": [],
   "source": [
    "img=cv2.imread('photo.png')\n",
    "img1=cv2.resize(img,(700,716))"
   ]
  },
  {
   "cell_type": "code",
   "execution_count": 3,
   "id": "6001589b",
   "metadata": {},
   "outputs": [
    {
     "data": {
      "text/plain": [
       "-1"
      ]
     },
     "execution_count": 3,
     "metadata": {},
     "output_type": "execute_result"
    }
   ],
   "source": [
    "cv2.imshow(\"actual\",img)\n",
    "cv2.imshow(\"resized\",img1)\n",
    "cv2.waitKey(4000)"
   ]
  },
  {
   "cell_type": "markdown",
   "id": "29cdc690",
   "metadata": {},
   "source": [
    "# Grayscale conversion\n",
    "\n"
   ]
  },
  {
   "cell_type": "code",
   "execution_count": 4,
   "id": "4e222774",
   "metadata": {},
   "outputs": [],
   "source": [
    "img1g=cv2.cvtColor(img1,cv2.COLOR_BGR2GRAY)"
   ]
  },
  {
   "cell_type": "markdown",
   "id": "1368ef9f",
   "metadata": {},
   "source": [
    "# Display image - actual & grayscale"
   ]
  },
  {
   "cell_type": "code",
   "execution_count": 5,
   "id": "3e1d33f8",
   "metadata": {},
   "outputs": [],
   "source": [
    "cv2.imshow(\"colour\", img1)\n",
    "cv2.imshow(\"grey\", img1g)\n",
    "cv2.waitKey(4000)\n",
    "cv2.destroyAllWindows()"
   ]
  },
  {
   "cell_type": "markdown",
   "id": "4ae32bb5",
   "metadata": {},
   "source": [
    "# Image thesholding(simple) - B&W Image"
   ]
  },
  {
   "cell_type": "code",
   "execution_count": 6,
   "id": "dcbcd980",
   "metadata": {},
   "outputs": [],
   "source": [
    "ret,tresh6 = cv2.threshold(img1g,15,150,cv2.THRESH_BINARY)\n",
    "ret,tresh7 = cv2.threshold(img1g,15,150,cv2.THRESH_BINARY_INV)\n",
    "ret,tresh8 = cv2.threshold(img1g,15,150,cv2.THRESH_TRUNC)\n",
    "ret,tresh9 = cv2.threshold(img1g,15,150,cv2.THRESH_TOZERO)\n",
    "ret,tresh10 = cv2.threshold(img1g,15,150,cv2.THRESH_TOZERO_INV)"
   ]
  },
  {
   "cell_type": "code",
   "execution_count": 7,
   "id": "518cf22b",
   "metadata": {},
   "outputs": [],
   "source": [
    "# Display the B&W threshold\n",
    "cv2.imshow(\"actual\", img1)\n",
    "cv2.imshow(\"Binary threshold\", tresh6)\n",
    "cv2.imshow(\"Binary threshold inverted\", tresh7)\n",
    "cv2.imshow(\"Truncated Threshold\", tresh8)\n",
    "cv2.imshow(\"set to 0\", tresh9)\n",
    "cv2.imshow(\"set to 0 Inverted\", tresh10)\n",
    "cv2.waitKey(4000)\n",
    "cv2.destroyAllWindows()"
   ]
  },
  {
   "cell_type": "markdown",
   "id": "606d4bc2",
   "metadata": {},
   "source": [
    "# median filter"
   ]
  },
  {
   "cell_type": "code",
   "execution_count": 9,
   "id": "a73c0957",
   "metadata": {},
   "outputs": [],
   "source": [
    "img1m=cv2.medianBlur(tresh6,1)"
   ]
  },
  {
   "cell_type": "code",
   "execution_count": 12,
   "id": "9dc3a155",
   "metadata": {},
   "outputs": [
    {
     "data": {
      "text/plain": [
       "-1"
      ]
     },
     "execution_count": 12,
     "metadata": {},
     "output_type": "execute_result"
    }
   ],
   "source": [
    "cv2.imshow(\"actual\",img1m)\n",
    "cv2.waitKey(4000)"
   ]
  },
  {
   "cell_type": "markdown",
   "id": "7f80fe20",
   "metadata": {},
   "source": [
    "# simple thresholding - Binary"
   ]
  },
  {
   "cell_type": "code",
   "execution_count": 1,
   "id": "7e2bcd20",
   "metadata": {},
   "outputs": [
    {
     "ename": "NameError",
     "evalue": "name 'cv2' is not defined",
     "output_type": "error",
     "traceback": [
      "\u001b[1;31m---------------------------------------------------------------------------\u001b[0m",
      "\u001b[1;31mNameError\u001b[0m                                 Traceback (most recent call last)",
      "Cell \u001b[1;32mIn[1], line 1\u001b[0m\n\u001b[1;32m----> 1\u001b[0m img1g\u001b[38;5;241m=\u001b[39m\u001b[43mcv2\u001b[49m\u001b[38;5;241m.\u001b[39mcvtColor(img1 ,cv2\u001b[38;5;241m.\u001b[39mCOLOR_BGR2GRAY)\n",
      "\u001b[1;31mNameError\u001b[0m: name 'cv2' is not defined"
     ]
    }
   ],
   "source": [
    "img1g=cv2.cvtColor(img1 ,cv2.COLOR_BGR2GRAY)"
   ]
  },
  {
   "cell_type": "code",
   "execution_count": null,
   "id": "06dc9411",
   "metadata": {},
   "outputs": [],
   "source": []
  }
 ],
 "metadata": {
  "kernelspec": {
   "display_name": "Python 3 (ipykernel)",
   "language": "python",
   "name": "python3"
  },
  "language_info": {
   "codemirror_mode": {
    "name": "ipython",
    "version": 3
   },
   "file_extension": ".py",
   "mimetype": "text/x-python",
   "name": "python",
   "nbconvert_exporter": "python",
   "pygments_lexer": "ipython3",
   "version": "3.9.16"
  }
 },
 "nbformat": 4,
 "nbformat_minor": 5
}
