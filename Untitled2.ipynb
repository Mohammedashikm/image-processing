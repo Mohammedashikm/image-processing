{
 "cells": [
  {
   "cell_type": "code",
   "execution_count": 1,
   "id": "990f187a",
   "metadata": {},
   "outputs": [],
   "source": [
    "import cv2\n",
    "import numpy as np"
   ]
  },
  {
   "cell_type": "markdown",
   "id": "6c331caf",
   "metadata": {},
   "source": [
    "# Reading image"
   ]
  },
  {
   "cell_type": "code",
   "execution_count": 2,
   "id": "2edc2dc2",
   "metadata": {},
   "outputs": [],
   "source": [
    "img=cv2.imread('black.jpg')"
   ]
  },
  {
   "cell_type": "markdown",
   "id": "e50a5042",
   "metadata": {},
   "source": [
    "# Structuring element or kernal"
   ]
  },
  {
   "cell_type": "code",
   "execution_count": 3,
   "id": "6bc3cf5f",
   "metadata": {},
   "outputs": [],
   "source": [
    "kernal=np.ones((3,3),np.uint8)"
   ]
  },
  {
   "cell_type": "markdown",
   "id": "0c9dbe39",
   "metadata": {},
   "source": [
    "# Erosion"
   ]
  },
  {
   "cell_type": "code",
   "execution_count": 4,
   "id": "6ad461be",
   "metadata": {},
   "outputs": [],
   "source": [
    "erosion=cv2.erode(img,kernal,iterations=7)"
   ]
  },
  {
   "cell_type": "markdown",
   "id": "76dfb3e5",
   "metadata": {},
   "source": [
    "# Display Erosion"
   ]
  },
  {
   "cell_type": "code",
   "execution_count": 5,
   "id": "7f03a0a8",
   "metadata": {},
   "outputs": [],
   "source": [
    "cv2.imshow('original',img)\n",
    "cv2.imshow('erosion',erosion)\n",
    "cv2.waitKey(0)\n",
    "cv2.destroyAllWindows()"
   ]
  },
  {
   "cell_type": "markdown",
   "id": "f419bdb5",
   "metadata": {},
   "source": [
    "# dilation"
   ]
  },
  {
   "cell_type": "code",
   "execution_count": 6,
   "id": "c846b5b1",
   "metadata": {},
   "outputs": [],
   "source": [
    "dilation=cv2.dilate(img,kernal,iterations=3)"
   ]
  },
  {
   "cell_type": "code",
   "execution_count": 7,
   "id": "8eb1792d",
   "metadata": {},
   "outputs": [],
   "source": [
    "cv2.imshow('original',img)\n",
    "cv2.imshow('erosion',erosion)\n",
    "cv2.imshow('dilation',dilation)\n",
    "cv2.waitKey(0)\n",
    "cv2.destroyAllWindows()"
   ]
  },
  {
   "cell_type": "code",
   "execution_count": null,
   "id": "3204c2fb",
   "metadata": {},
   "outputs": [],
   "source": []
  }
 ],
 "metadata": {
  "kernelspec": {
   "display_name": "Python 3 (ipykernel)",
   "language": "python",
   "name": "python3"
  },
  "language_info": {
   "codemirror_mode": {
    "name": "ipython",
    "version": 3
   },
   "file_extension": ".py",
   "mimetype": "text/x-python",
   "name": "python",
   "nbconvert_exporter": "python",
   "pygments_lexer": "ipython3",
   "version": "3.10.9"
  }
 },
 "nbformat": 4,
 "nbformat_minor": 5
}
