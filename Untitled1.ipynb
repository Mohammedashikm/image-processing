{
 "cells": [
  {
   "cell_type": "code",
   "execution_count": 1,
   "id": "12a7d8aa",
   "metadata": {},
   "outputs": [],
   "source": [
    "import cv2\n",
    "import numpy as np"
   ]
  },
  {
   "cell_type": "markdown",
   "id": "be76f712",
   "metadata": {},
   "source": [
    "# Reading image"
   ]
  },
  {
   "cell_type": "code",
   "execution_count": 22,
   "id": "b8ab363b",
   "metadata": {},
   "outputs": [],
   "source": [
    "img=cv2.imread('moon.jpg')"
   ]
  },
  {
   "cell_type": "markdown",
   "id": "bd57980a",
   "metadata": {},
   "source": [
    "# shape of image"
   ]
  },
  {
   "cell_type": "code",
   "execution_count": 23,
   "id": "62be5002",
   "metadata": {},
   "outputs": [
    {
     "name": "stdout",
     "output_type": "stream",
     "text": [
      "(2813, 5000, 3)\n"
     ]
    }
   ],
   "source": [
    "print(img.shape)"
   ]
  },
  {
   "cell_type": "code",
   "execution_count": 24,
   "id": "7b7c5493",
   "metadata": {},
   "outputs": [
    {
     "data": {
      "text/plain": [
       "-1"
      ]
     },
     "execution_count": 24,
     "metadata": {},
     "output_type": "execute_result"
    }
   ],
   "source": [
    "cv2.imshow(\"img\",img)\n",
    "cv2.waitKey(0)"
   ]
  },
  {
   "cell_type": "markdown",
   "id": "848d79c8",
   "metadata": {},
   "source": [
    "# Another resizing way"
   ]
  },
  {
   "cell_type": "code",
   "execution_count": 5,
   "id": "58026224",
   "metadata": {},
   "outputs": [],
   "source": [
    "img_res2=cv2.resize(img,(1000,1000))"
   ]
  },
  {
   "cell_type": "code",
   "execution_count": 6,
   "id": "0925decb",
   "metadata": {},
   "outputs": [
    {
     "data": {
      "text/plain": [
       "-1"
      ]
     },
     "execution_count": 6,
     "metadata": {},
     "output_type": "execute_result"
    }
   ],
   "source": [
    "cv2.imshow(\"img\",img_res2)\n",
    "cv2.waitKey(0)"
   ]
  },
  {
   "cell_type": "markdown",
   "id": "34223028",
   "metadata": {},
   "source": [
    "# IMAGE BLURING OR SMOOTHING "
   ]
  },
  {
   "cell_type": "markdown",
   "id": "c2a18c79",
   "metadata": {},
   "source": [
    "# 2D CONVOLUTION"
   ]
  },
  {
   "cell_type": "markdown",
   "id": "6fdec183",
   "metadata": {},
   "source": [
    "# KERNAL"
   ]
  },
  {
   "cell_type": "code",
   "execution_count": 7,
   "id": "f418ab75",
   "metadata": {},
   "outputs": [],
   "source": [
    "kernel=np.ones((3,3),float)/9"
   ]
  },
  {
   "cell_type": "markdown",
   "id": "dd3b6f08",
   "metadata": {},
   "source": [
    "# 2D FILTER"
   ]
  },
  {
   "cell_type": "code",
   "execution_count": 13,
   "id": "64570f71",
   "metadata": {},
   "outputs": [],
   "source": [
    "tdf=cv2.filter2D(img_res2,-5,kernel)"
   ]
  },
  {
   "cell_type": "markdown",
   "id": "84c21546",
   "metadata": {},
   "source": [
    "# 2D  FILTERING DISPLAY"
   ]
  },
  {
   "cell_type": "code",
   "execution_count": 14,
   "id": "50589d90",
   "metadata": {},
   "outputs": [
    {
     "data": {
      "text/plain": [
       "-1"
      ]
     },
     "execution_count": 14,
     "metadata": {},
     "output_type": "execute_result"
    }
   ],
   "source": [
    "cv2.imshow(\"img\",img_res2)\n",
    "cv2.waitKey(0)\n",
    "cv2.imshow(\"2D FILTERING DISPLAY\",tdf)\n",
    "cv2.waitKey(0)"
   ]
  },
  {
   "cell_type": "markdown",
   "id": "f06bc9da",
   "metadata": {},
   "source": [
    "# imageBLURING - Averaging"
   ]
  },
  {
   "cell_type": "code",
   "execution_count": 16,
   "id": "5cf288e2",
   "metadata": {},
   "outputs": [],
   "source": [
    "avg=cv2.blur(img_res2,(5,5))"
   ]
  },
  {
   "cell_type": "code",
   "execution_count": 17,
   "id": "55b2b019",
   "metadata": {},
   "outputs": [],
   "source": [
    "cv2.imshow(\"img\",img_res2)\n",
    "cv2.waitKey(0)\n",
    "cv2.imshow(\"avg\",avg)\n",
    "cv2.waitKey(0)\n",
    "cv2.destroyAllWindows()"
   ]
  },
  {
   "cell_type": "markdown",
   "id": "bf012d38",
   "metadata": {},
   "source": [
    "# image blur-Gaussian Filter"
   ]
  },
  {
   "cell_type": "code",
   "execution_count": 27,
   "id": "27a5481b",
   "metadata": {},
   "outputs": [],
   "source": [
    "guass=cv2.GaussianBlur(img,(3,3),0)"
   ]
  },
  {
   "cell_type": "code",
   "execution_count": 28,
   "id": "859572e0",
   "metadata": {},
   "outputs": [
    {
     "data": {
      "text/plain": [
       "-1"
      ]
     },
     "execution_count": 28,
     "metadata": {},
     "output_type": "execute_result"
    }
   ],
   "source": [
    "cv2.imshow(\"img\",guass)\n",
    "cv2.waitKey(0)"
   ]
  },
  {
   "cell_type": "code",
   "execution_count": null,
   "id": "384f2d1b",
   "metadata": {},
   "outputs": [],
   "source": []
  }
 ],
 "metadata": {
  "kernelspec": {
   "display_name": "Python 3 (ipykernel)",
   "language": "python",
   "name": "python3"
  },
  "language_info": {
   "codemirror_mode": {
    "name": "ipython",
    "version": 3
   },
   "file_extension": ".py",
   "mimetype": "text/x-python",
   "name": "python",
   "nbconvert_exporter": "python",
   "pygments_lexer": "ipython3",
   "version": "3.10.9"
  }
 },
 "nbformat": 4,
 "nbformat_minor": 5
}
